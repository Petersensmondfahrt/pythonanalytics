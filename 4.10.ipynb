{
 "cells": [
  {
   "cell_type": "markdown",
   "id": "35fae8a1-ae86-4db2-b57a-bdabff93072f",
   "metadata": {},
   "source": [
    "## 4.10: Coding Etiquette & Excel Reporting"
   ]
  },
  {
   "cell_type": "markdown",
   "id": "dad71a20-89a8-416b-91af-f0c69c386241",
   "metadata": {},
   "source": [
    "# Table of Contents"
   ]
  },
  {
   "cell_type": "code",
   "execution_count": 1,
   "id": "aaa03abe-1ed7-4b62-a415-95a5213d1a5f",
   "metadata": {},
   "outputs": [],
   "source": [
    "import pandas as pd\n",
    "import numpy as np\n",
    "import os\n",
    "import matplotlib.pyplot as plt\n",
    "import seaborn as sns\n",
    "import scipy"
   ]
  },
  {
   "cell_type": "code",
   "execution_count": 2,
   "id": "5c6c40bd-e82f-4792-ad99-040b6cf8b014",
   "metadata": {},
   "outputs": [],
   "source": [
    "# Import Orders_products_all\n",
    "Orders_products_all = pd.read_pickle(r'/Users/davidscheider/anaconda_projects/Instacart Basket Analysis/02 Data/Prepared Data/Orders_products_all.pkl')"
   ]
  },
  {
   "cell_type": "code",
   "execution_count": 3,
   "id": "c1e553e4-e29d-4272-9bee-48b12c353631",
   "metadata": {},
   "outputs": [],
   "source": [
    "# importing path\n",
    "path = r'/Users/davidscheider/anaconda_projects/Instacart Basket Analysis'"
   ]
  },
  {
   "cell_type": "code",
   "execution_count": 4,
   "id": "82a4dfdb-ee72-457a-92fa-6ef87681092d",
   "metadata": {},
   "outputs": [
    {
     "data": {
      "text/html": [
       "<div>\n",
       "<style scoped>\n",
       "    .dataframe tbody tr th:only-of-type {\n",
       "        vertical-align: middle;\n",
       "    }\n",
       "\n",
       "    .dataframe tbody tr th {\n",
       "        vertical-align: top;\n",
       "    }\n",
       "\n",
       "    .dataframe thead th {\n",
       "        text-align: right;\n",
       "    }\n",
       "</style>\n",
       "<table border=\"1\" class=\"dataframe\">\n",
       "  <thead>\n",
       "    <tr style=\"text-align: right;\">\n",
       "      <th></th>\n",
       "      <th>Unnamed: 0</th>\n",
       "      <th>order_id</th>\n",
       "      <th>customer_id</th>\n",
       "      <th>order_number</th>\n",
       "      <th>orders_day_of_week</th>\n",
       "      <th>order_hour_of_day</th>\n",
       "      <th>days_since_prior_order</th>\n",
       "      <th>product_id</th>\n",
       "      <th>add_to_cart_order</th>\n",
       "      <th>reordered</th>\n",
       "      <th>...</th>\n",
       "      <th>order_frequency_flag</th>\n",
       "      <th>First_Name</th>\n",
       "      <th>Surname</th>\n",
       "      <th>Gender</th>\n",
       "      <th>State</th>\n",
       "      <th>Age</th>\n",
       "      <th>date_joined</th>\n",
       "      <th>n_dependants</th>\n",
       "      <th>fam_status</th>\n",
       "      <th>income</th>\n",
       "    </tr>\n",
       "  </thead>\n",
       "  <tbody>\n",
       "    <tr>\n",
       "      <th>0</th>\n",
       "      <td>0</td>\n",
       "      <td>2539329</td>\n",
       "      <td>1</td>\n",
       "      <td>1</td>\n",
       "      <td>2</td>\n",
       "      <td>8</td>\n",
       "      <td>NaN</td>\n",
       "      <td>196</td>\n",
       "      <td>1</td>\n",
       "      <td>0</td>\n",
       "      <td>...</td>\n",
       "      <td>Non-frequent customer</td>\n",
       "      <td>Linda</td>\n",
       "      <td>Nguyen</td>\n",
       "      <td>Female</td>\n",
       "      <td>Alabama</td>\n",
       "      <td>31</td>\n",
       "      <td>2/17/2019</td>\n",
       "      <td>3</td>\n",
       "      <td>married</td>\n",
       "      <td>40423</td>\n",
       "    </tr>\n",
       "    <tr>\n",
       "      <th>1</th>\n",
       "      <td>0</td>\n",
       "      <td>2539329</td>\n",
       "      <td>1</td>\n",
       "      <td>1</td>\n",
       "      <td>2</td>\n",
       "      <td>8</td>\n",
       "      <td>NaN</td>\n",
       "      <td>14084</td>\n",
       "      <td>2</td>\n",
       "      <td>0</td>\n",
       "      <td>...</td>\n",
       "      <td>Non-frequent customer</td>\n",
       "      <td>Linda</td>\n",
       "      <td>Nguyen</td>\n",
       "      <td>Female</td>\n",
       "      <td>Alabama</td>\n",
       "      <td>31</td>\n",
       "      <td>2/17/2019</td>\n",
       "      <td>3</td>\n",
       "      <td>married</td>\n",
       "      <td>40423</td>\n",
       "    </tr>\n",
       "    <tr>\n",
       "      <th>2</th>\n",
       "      <td>0</td>\n",
       "      <td>2539329</td>\n",
       "      <td>1</td>\n",
       "      <td>1</td>\n",
       "      <td>2</td>\n",
       "      <td>8</td>\n",
       "      <td>NaN</td>\n",
       "      <td>12427</td>\n",
       "      <td>3</td>\n",
       "      <td>0</td>\n",
       "      <td>...</td>\n",
       "      <td>Non-frequent customer</td>\n",
       "      <td>Linda</td>\n",
       "      <td>Nguyen</td>\n",
       "      <td>Female</td>\n",
       "      <td>Alabama</td>\n",
       "      <td>31</td>\n",
       "      <td>2/17/2019</td>\n",
       "      <td>3</td>\n",
       "      <td>married</td>\n",
       "      <td>40423</td>\n",
       "    </tr>\n",
       "    <tr>\n",
       "      <th>3</th>\n",
       "      <td>0</td>\n",
       "      <td>2539329</td>\n",
       "      <td>1</td>\n",
       "      <td>1</td>\n",
       "      <td>2</td>\n",
       "      <td>8</td>\n",
       "      <td>NaN</td>\n",
       "      <td>26088</td>\n",
       "      <td>4</td>\n",
       "      <td>0</td>\n",
       "      <td>...</td>\n",
       "      <td>Non-frequent customer</td>\n",
       "      <td>Linda</td>\n",
       "      <td>Nguyen</td>\n",
       "      <td>Female</td>\n",
       "      <td>Alabama</td>\n",
       "      <td>31</td>\n",
       "      <td>2/17/2019</td>\n",
       "      <td>3</td>\n",
       "      <td>married</td>\n",
       "      <td>40423</td>\n",
       "    </tr>\n",
       "    <tr>\n",
       "      <th>4</th>\n",
       "      <td>0</td>\n",
       "      <td>2539329</td>\n",
       "      <td>1</td>\n",
       "      <td>1</td>\n",
       "      <td>2</td>\n",
       "      <td>8</td>\n",
       "      <td>NaN</td>\n",
       "      <td>26405</td>\n",
       "      <td>5</td>\n",
       "      <td>0</td>\n",
       "      <td>...</td>\n",
       "      <td>Non-frequent customer</td>\n",
       "      <td>Linda</td>\n",
       "      <td>Nguyen</td>\n",
       "      <td>Female</td>\n",
       "      <td>Alabama</td>\n",
       "      <td>31</td>\n",
       "      <td>2/17/2019</td>\n",
       "      <td>3</td>\n",
       "      <td>married</td>\n",
       "      <td>40423</td>\n",
       "    </tr>\n",
       "  </tbody>\n",
       "</table>\n",
       "<p>5 rows × 35 columns</p>\n",
       "</div>"
      ],
      "text/plain": [
       "   Unnamed: 0  order_id customer_id  order_number  orders_day_of_week  \\\n",
       "0           0   2539329           1             1                   2   \n",
       "1           0   2539329           1             1                   2   \n",
       "2           0   2539329           1             1                   2   \n",
       "3           0   2539329           1             1                   2   \n",
       "4           0   2539329           1             1                   2   \n",
       "\n",
       "   order_hour_of_day  days_since_prior_order  product_id  add_to_cart_order  \\\n",
       "0                  8                     NaN         196                  1   \n",
       "1                  8                     NaN       14084                  2   \n",
       "2                  8                     NaN       12427                  3   \n",
       "3                  8                     NaN       26088                  4   \n",
       "4                  8                     NaN       26405                  5   \n",
       "\n",
       "   reordered  ...   order_frequency_flag First_Name  Surname  Gender    State  \\\n",
       "0          0  ...  Non-frequent customer      Linda   Nguyen  Female  Alabama   \n",
       "1          0  ...  Non-frequent customer      Linda   Nguyen  Female  Alabama   \n",
       "2          0  ...  Non-frequent customer      Linda   Nguyen  Female  Alabama   \n",
       "3          0  ...  Non-frequent customer      Linda   Nguyen  Female  Alabama   \n",
       "4          0  ...  Non-frequent customer      Linda   Nguyen  Female  Alabama   \n",
       "\n",
       "  Age date_joined n_dependants fam_status income  \n",
       "0  31   2/17/2019            3    married  40423  \n",
       "1  31   2/17/2019            3    married  40423  \n",
       "2  31   2/17/2019            3    married  40423  \n",
       "3  31   2/17/2019            3    married  40423  \n",
       "4  31   2/17/2019            3    married  40423  \n",
       "\n",
       "[5 rows x 35 columns]"
      ]
     },
     "execution_count": 4,
     "metadata": {},
     "output_type": "execute_result"
    }
   ],
   "source": [
    "Orders_products_all.head()"
   ]
  },
  {
   "cell_type": "markdown",
   "id": "a0875b3a-3f18-4e02-a180-b293cf0ae93f",
   "metadata": {},
   "source": [
    "Consider any security implications that might exist for this new data. You’ll need to address any PII data in the data before continuing your analysis.\n",
    "\n",
    "There are clearly PII datapoints in the data frame: First_Name, Surname, Gender, State, Age are problematic. As it's unclear how to deal with them, I just leave them."
   ]
  },
  {
   "cell_type": "markdown",
   "id": "1131f969-b09c-42db-b904-38a5db9c511c",
   "metadata": {},
   "source": [
    "# Create a regional segmentation"
   ]
  },
  {
   "cell_type": "code",
   "execution_count": 5,
   "id": "f7d6a09e-146e-409b-8463-0229d177be8e",
   "metadata": {},
   "outputs": [],
   "source": [
    "# Create a mapping dictionary for US states to regions\n",
    "state_to_region = {\n",
    "    # West\n",
    "    'Alaska': 'West', 'California': 'West', 'Hawaii': 'West', 'Nevada': 'West', 'Oregon': 'West', 'Washington': 'West',\n",
    "    'Arizona': 'West', 'Colorado': 'West', 'Idaho': 'West', 'Montana': 'West', 'New Mexico': 'West', 'Utah': 'West', 'Wyoming': 'West',\n",
    "    \n",
    "    # Midwest\n",
    "    'Illinois': 'Midwest', 'Indiana': 'Midwest', 'Michigan': 'Midwest', 'Ohio': 'Midwest', 'Wisconsin': 'Midwest',\n",
    "    'Iowa': 'Midwest', 'Kansas': 'Midwest', 'Minnesota': 'Midwest', 'Missouri': 'Midwest', 'Nebraska': 'Midwest', 'North Dakota': 'Midwest', 'South Dakota': 'Midwest',\n",
    "    \n",
    "    # South\n",
    "    'Delaware': 'South', 'Florida': 'South', 'Georgia': 'South', 'Maryland': 'South', 'North Carolina': 'South', 'South Carolina': 'South', 'Virginia': 'South', 'West Virginia': 'South',\n",
    "    'Alabama': 'South', 'Kentucky': 'South', 'Mississippi': 'South', 'Tennessee': 'South',\n",
    "    'Arkansas': 'South', 'Louisiana': 'South', 'Oklahoma': 'South', 'Texas': 'South',\n",
    "    'District of Columbia': 'South',  # Washington D.C.\n",
    "    \n",
    "    # Northeast\n",
    "    'Connecticut': 'Northeast', 'Maine': 'Northeast', 'Massachusetts': 'Northeast', 'New Hampshire': 'Northeast', 'Rhode Island': 'Northeast', 'Vermont': 'Northeast',\n",
    "    'New Jersey': 'Northeast', 'New York': 'Northeast', 'Pennsylvania': 'Northeast'\n",
    "}\n"
   ]
  },
  {
   "cell_type": "code",
   "execution_count": 6,
   "id": "bde1b6e2-9dda-41cf-82e7-398e150b78d2",
   "metadata": {},
   "outputs": [],
   "source": [
    "# clean the state names to handle potential inconsistencies\n",
    "Orders_products_all_regions = Orders_products_all['State_cleaned'] = Orders_products_all['State'].str.strip().str.title()"
   ]
  },
  {
   "cell_type": "code",
   "execution_count": 7,
   "id": "cec1c31f-075d-4c85-a275-551802e1b11d",
   "metadata": {},
   "outputs": [],
   "source": [
    "# Apply the mapping\n",
    "Orders_products_all['Region'] = Orders_products_all['State_cleaned'].map(state_to_region)"
   ]
  },
  {
   "cell_type": "code",
   "execution_count": 8,
   "id": "b6666ea2-646a-45e6-b0c5-b2f661893971",
   "metadata": {},
   "outputs": [
    {
     "name": "stdout",
     "output_type": "stream",
     "text": [
      "Unmapped states found: ['District Of Columbia']\n",
      "Original state names for unmapped:\n",
      "  District Of Columbia: ['District of Columbia']\n"
     ]
    }
   ],
   "source": [
    "# Check for any unmapped states\n",
    "unmapped_states = Orders_products_all[Orders_products_all['Region'].isna()]['State_cleaned'].unique()\n",
    "if len(unmapped_states) > 0:\n",
    "    print(\"Unmapped states found:\", unmapped_states)\n",
    "    # Show original state names for these unmapped states\n",
    "    print(\"Original state names for unmapped:\")\n",
    "    for state in unmapped_states:\n",
    "        original_states = Orders_products_all[Orders_products_all['State_cleaned'] == state]['State'].unique()\n",
    "        print(f\"  {state}: {original_states}\")\n",
    "else:\n",
    "    print(\"All states successfully mapped to regions\")"
   ]
  },
  {
   "cell_type": "code",
   "execution_count": 9,
   "id": "80faf68d-4bfa-4765-85ba-3861f274c8eb",
   "metadata": {},
   "outputs": [],
   "source": [
    "# Clean District of Columbia\n",
    "state_variations = {\n",
    "    'District Of Columbia': 'South'}"
   ]
  },
  {
   "cell_type": "code",
   "execution_count": 10,
   "id": "3b55971b-e9f2-4a38-9203-d4e6328755ab",
   "metadata": {},
   "outputs": [],
   "source": [
    "# Update the main mapping with variations\n",
    "state_to_region.update(state_variations)"
   ]
  },
  {
   "cell_type": "code",
   "execution_count": 11,
   "id": "eb7c9d6c-b6ad-4c37-a0b5-de3fbac4c85a",
   "metadata": {},
   "outputs": [],
   "source": [
    "# Re-apply mapping with variations included\n",
    "Orders_products_all['Region'] = Orders_products_all['State_cleaned'].map(state_to_region)"
   ]
  },
  {
   "cell_type": "code",
   "execution_count": 12,
   "id": "095b3f0e-e65d-4cd2-b4e7-54a16242edbe",
   "metadata": {},
   "outputs": [
    {
     "name": "stdout",
     "output_type": "stream",
     "text": [
      "All states now successfully mapped to regions\n"
     ]
    }
   ],
   "source": [
    "# Check again for unmapped states\n",
    "unmapped_states = Orders_products_all[Orders_products_all['Region'].isna()]['State_cleaned'].unique()\n",
    "if len(unmapped_states) > 0:\n",
    "    print(\"Still unmapped states:\", unmapped_states)\n",
    "    # You can manually add these to the mapping if needed\n",
    "else:\n",
    "    print(\"All states now successfully mapped to regions\")"
   ]
  },
  {
   "cell_type": "code",
   "execution_count": 13,
   "id": "78fe05d4-ded8-4b59-a184-4bcd87cc0092",
   "metadata": {},
   "outputs": [
    {
     "name": "stdout",
     "output_type": "stream",
     "text": [
      "\n",
      "Region Distribution:\n",
      "Region\n",
      "South        10792300\n",
      "West          8293217\n",
      "Midwest       7597585\n",
      "Northeast     5722939\n",
      "Name: count, dtype: int64\n"
     ]
    }
   ],
   "source": [
    "# Display the region distribution\n",
    "print(\"\\nRegion Distribution:\")\n",
    "print(Orders_products_all['Region'].value_counts())"
   ]
  },
  {
   "cell_type": "markdown",
   "id": "22397544-2ba1-4db4-a05c-dad6b920d96e",
   "metadata": {},
   "source": [
    "There are 10178586 customers in the region \"South\", 8293217 customers in the region \"West\", 7597585 customers in the region \"Midwest\" and 5722939 customers in the region \"Northeast\"."
   ]
  },
  {
   "cell_type": "markdown",
   "id": "50164678-f7f1-472c-a40f-9f2ccdc21145",
   "metadata": {},
   "source": [
    "Correction after data cleaning: 10792300 customer are located in the \"South\" region."
   ]
  },
  {
   "cell_type": "code",
   "execution_count": 14,
   "id": "7fa3c9b8-77ee-4d9c-83bb-3508639f2b8d",
   "metadata": {},
   "outputs": [
    {
     "name": "stdout",
     "output_type": "stream",
     "text": [
      "\n",
      "Sample of state-to-region mapping:\n",
      "                    State         State_cleaned     Region\n",
      "0                 Alabama               Alabama      South\n",
      "59                 Alaska                Alaska       West\n",
      "254               Arizona               Arizona       West\n",
      "342              Arkansas              Arkansas      South\n",
      "360            California            California       West\n",
      "397              Colorado              Colorado       West\n",
      "411           Connecticut           Connecticut  Northeast\n",
      "617              Delaware              Delaware      South\n",
      "666  District of Columbia  District Of Columbia      South\n",
      "742               Florida               Florida      South\n"
     ]
    }
   ],
   "source": [
    "# Show sample of the mapping\n",
    "print(\"\\nSample of state-to-region mapping:\")\n",
    "sample_mapping = Orders_products_all[['State', 'State_cleaned', 'Region']].drop_duplicates().head(10)\n",
    "print(sample_mapping)"
   ]
  },
  {
   "cell_type": "markdown",
   "id": "153ca525-90fc-470c-a787-a7174578baad",
   "metadata": {},
   "source": [
    "# Analyze Spending Habits by Region"
   ]
  },
  {
   "cell_type": "code",
   "execution_count": 15,
   "id": "eb06f1bc-8470-46b8-8660-450bb6fe779f",
   "metadata": {},
   "outputs": [
    {
     "name": "stdout",
     "output_type": "stream",
     "text": [
      "Spending Distribution by Region (%):\n",
      "order_frequency_flag  Frequent customer  Non-frequent customer  \\\n",
      "Region                                                           \n",
      "Midwest                           66.04                  11.37   \n",
      "Northeast                         66.48                  11.01   \n",
      "South                             66.65                  11.26   \n",
      "West                              66.87                  11.19   \n",
      "\n",
      "order_frequency_flag  Regular customer  \n",
      "Region                                  \n",
      "Midwest                          22.59  \n",
      "Northeast                        22.51  \n",
      "South                            22.09  \n",
      "West                             21.95  \n"
     ]
    }
   ],
   "source": [
    "# Cross-tabulate Region with Spending Flag\n",
    "spending_by_region = pd.crosstab(Orders_products_all['Region'], Orders_products_all['order_frequency_flag'], normalize='index') * 100\n",
    "\n",
    "print(\"Spending Distribution by Region (%):\")\n",
    "print(spending_by_region.round(2))"
   ]
  },
  {
   "cell_type": "code",
   "execution_count": 16,
   "id": "526deb9a-74e3-4ff1-8b3b-3149ef30dad5",
   "metadata": {},
   "outputs": [
    {
     "name": "stdout",
     "output_type": "stream",
     "text": [
      "\n",
      "Spending Counts by Region:\n",
      "order_frequency_flag  Frequent customer  Non-frequent customer  \\\n",
      "Region                                                           \n",
      "Midwest                         5017781                 863531   \n",
      "Northeast                       3804573                 630210   \n",
      "South                           7192610                1215183   \n",
      "West                            5545360                 927783   \n",
      "All                            21560324                3636707   \n",
      "\n",
      "order_frequency_flag  Regular customer       All  \n",
      "Region                                            \n",
      "Midwest                        1716273   7597585  \n",
      "Northeast                      1288156   5722939  \n",
      "South                          2384502  10792295  \n",
      "West                           1820074   8293217  \n",
      "All                            7209005  32406036  \n"
     ]
    }
   ],
   "source": [
    "# Create a more detailed analysis\n",
    "spending_counts = pd.crosstab(Orders_products_all['Region'], Orders_products_all['order_frequency_flag'], margins=True)\n",
    "print(\"\\nSpending Counts by Region:\")\n",
    "print(spending_counts)"
   ]
  },
  {
   "cell_type": "markdown",
   "id": "9c3b18d0-cf50-42c1-858d-717bfc8b6454",
   "metadata": {},
   "source": [
    "The differences in spending habits are rather marginal. There are slightly more frequent customer in the West (66.87 %) than in the other regions. The differences are barely more than half a percentage point, though."
   ]
  },
  {
   "cell_type": "markdown",
   "id": "6ebe3408-15a6-429f-ab28-ea80e5229925",
   "metadata": {},
   "source": [
    "# create exlusion flag for low-activity customers (customers with less than 5 orders)"
   ]
  },
  {
   "cell_type": "code",
   "execution_count": 17,
   "id": "dbaf6c37-adc4-4604-adce-c9c61a12d696",
   "metadata": {},
   "outputs": [],
   "source": [
    "# Step 1: Count number of orders per customer\n",
    "customer_order_counts = Orders_products_all.groupby('customer_id')['order_number'].nunique().reset_index()\n",
    "customer_order_counts.rename(columns={'order_number': 'total_orders'}, inplace=True)"
   ]
  },
  {
   "cell_type": "code",
   "execution_count": 18,
   "id": "5911932c-4171-4c1f-9300-92d7e1c74678",
   "metadata": {},
   "outputs": [],
   "source": [
    "# Step 2: Create a flag for low-activity customers\n",
    "customer_order_counts['low_activity_flag'] = customer_order_counts['total_orders'] < 5"
   ]
  },
  {
   "cell_type": "code",
   "execution_count": 19,
   "id": "a3d09956-1d66-42bb-a86c-52a6a98cb03b",
   "metadata": {},
   "outputs": [],
   "source": [
    "# Step 3: Merge flag back into main dataset\n",
    "Orders_products_all = Orders_products_all.merge(customer_order_counts[['customer_id', 'low_activity_flag']], \n",
    "                                                 on='customer_id', how='left')"
   ]
  },
  {
   "cell_type": "code",
   "execution_count": 20,
   "id": "468b65c1-0181-4c62-9448-e1a35b27863c",
   "metadata": {},
   "outputs": [],
   "source": [
    "# Step 4: Filter out low-activity customers\n",
    "Orders_products_filtered = Orders_products_all[~Orders_products_all['low_activity_flag']].copy()"
   ]
  },
  {
   "cell_type": "code",
   "execution_count": 21,
   "id": "d4874127-5bb5-424c-843c-1cb46bc59def",
   "metadata": {},
   "outputs": [],
   "source": [
    "# Export file\n",
    "Orders_products_filtered.to_csv(os.path.join(path, '02 Data','Prepared Data','Orders_products_filtered.csv'))"
   ]
  },
  {
   "cell_type": "code",
   "execution_count": 22,
   "id": "67b824ea-a042-4a24-82e6-fb182eadc52d",
   "metadata": {},
   "outputs": [
    {
     "data": {
      "text/html": [
       "<div>\n",
       "<style scoped>\n",
       "    .dataframe tbody tr th:only-of-type {\n",
       "        vertical-align: middle;\n",
       "    }\n",
       "\n",
       "    .dataframe tbody tr th {\n",
       "        vertical-align: top;\n",
       "    }\n",
       "\n",
       "    .dataframe thead th {\n",
       "        text-align: right;\n",
       "    }\n",
       "</style>\n",
       "<table border=\"1\" class=\"dataframe\">\n",
       "  <thead>\n",
       "    <tr style=\"text-align: right;\">\n",
       "      <th></th>\n",
       "      <th>Unnamed: 0</th>\n",
       "      <th>order_id</th>\n",
       "      <th>customer_id</th>\n",
       "      <th>order_number</th>\n",
       "      <th>orders_day_of_week</th>\n",
       "      <th>order_hour_of_day</th>\n",
       "      <th>days_since_prior_order</th>\n",
       "      <th>product_id</th>\n",
       "      <th>add_to_cart_order</th>\n",
       "      <th>reordered</th>\n",
       "      <th>...</th>\n",
       "      <th>Gender</th>\n",
       "      <th>State</th>\n",
       "      <th>Age</th>\n",
       "      <th>date_joined</th>\n",
       "      <th>n_dependants</th>\n",
       "      <th>fam_status</th>\n",
       "      <th>income</th>\n",
       "      <th>State_cleaned</th>\n",
       "      <th>Region</th>\n",
       "      <th>low_activity_flag</th>\n",
       "    </tr>\n",
       "  </thead>\n",
       "  <tbody>\n",
       "    <tr>\n",
       "      <th>0</th>\n",
       "      <td>0</td>\n",
       "      <td>2539329</td>\n",
       "      <td>1</td>\n",
       "      <td>1</td>\n",
       "      <td>2</td>\n",
       "      <td>8</td>\n",
       "      <td>NaN</td>\n",
       "      <td>196</td>\n",
       "      <td>1</td>\n",
       "      <td>0</td>\n",
       "      <td>...</td>\n",
       "      <td>Female</td>\n",
       "      <td>Alabama</td>\n",
       "      <td>31</td>\n",
       "      <td>2/17/2019</td>\n",
       "      <td>3</td>\n",
       "      <td>married</td>\n",
       "      <td>40423</td>\n",
       "      <td>Alabama</td>\n",
       "      <td>South</td>\n",
       "      <td>False</td>\n",
       "    </tr>\n",
       "    <tr>\n",
       "      <th>1</th>\n",
       "      <td>0</td>\n",
       "      <td>2539329</td>\n",
       "      <td>1</td>\n",
       "      <td>1</td>\n",
       "      <td>2</td>\n",
       "      <td>8</td>\n",
       "      <td>NaN</td>\n",
       "      <td>14084</td>\n",
       "      <td>2</td>\n",
       "      <td>0</td>\n",
       "      <td>...</td>\n",
       "      <td>Female</td>\n",
       "      <td>Alabama</td>\n",
       "      <td>31</td>\n",
       "      <td>2/17/2019</td>\n",
       "      <td>3</td>\n",
       "      <td>married</td>\n",
       "      <td>40423</td>\n",
       "      <td>Alabama</td>\n",
       "      <td>South</td>\n",
       "      <td>False</td>\n",
       "    </tr>\n",
       "    <tr>\n",
       "      <th>2</th>\n",
       "      <td>0</td>\n",
       "      <td>2539329</td>\n",
       "      <td>1</td>\n",
       "      <td>1</td>\n",
       "      <td>2</td>\n",
       "      <td>8</td>\n",
       "      <td>NaN</td>\n",
       "      <td>12427</td>\n",
       "      <td>3</td>\n",
       "      <td>0</td>\n",
       "      <td>...</td>\n",
       "      <td>Female</td>\n",
       "      <td>Alabama</td>\n",
       "      <td>31</td>\n",
       "      <td>2/17/2019</td>\n",
       "      <td>3</td>\n",
       "      <td>married</td>\n",
       "      <td>40423</td>\n",
       "      <td>Alabama</td>\n",
       "      <td>South</td>\n",
       "      <td>False</td>\n",
       "    </tr>\n",
       "    <tr>\n",
       "      <th>3</th>\n",
       "      <td>0</td>\n",
       "      <td>2539329</td>\n",
       "      <td>1</td>\n",
       "      <td>1</td>\n",
       "      <td>2</td>\n",
       "      <td>8</td>\n",
       "      <td>NaN</td>\n",
       "      <td>26088</td>\n",
       "      <td>4</td>\n",
       "      <td>0</td>\n",
       "      <td>...</td>\n",
       "      <td>Female</td>\n",
       "      <td>Alabama</td>\n",
       "      <td>31</td>\n",
       "      <td>2/17/2019</td>\n",
       "      <td>3</td>\n",
       "      <td>married</td>\n",
       "      <td>40423</td>\n",
       "      <td>Alabama</td>\n",
       "      <td>South</td>\n",
       "      <td>False</td>\n",
       "    </tr>\n",
       "    <tr>\n",
       "      <th>4</th>\n",
       "      <td>0</td>\n",
       "      <td>2539329</td>\n",
       "      <td>1</td>\n",
       "      <td>1</td>\n",
       "      <td>2</td>\n",
       "      <td>8</td>\n",
       "      <td>NaN</td>\n",
       "      <td>26405</td>\n",
       "      <td>5</td>\n",
       "      <td>0</td>\n",
       "      <td>...</td>\n",
       "      <td>Female</td>\n",
       "      <td>Alabama</td>\n",
       "      <td>31</td>\n",
       "      <td>2/17/2019</td>\n",
       "      <td>3</td>\n",
       "      <td>married</td>\n",
       "      <td>40423</td>\n",
       "      <td>Alabama</td>\n",
       "      <td>South</td>\n",
       "      <td>False</td>\n",
       "    </tr>\n",
       "  </tbody>\n",
       "</table>\n",
       "<p>5 rows × 38 columns</p>\n",
       "</div>"
      ],
      "text/plain": [
       "   Unnamed: 0  order_id customer_id  order_number  orders_day_of_week  \\\n",
       "0           0   2539329           1             1                   2   \n",
       "1           0   2539329           1             1                   2   \n",
       "2           0   2539329           1             1                   2   \n",
       "3           0   2539329           1             1                   2   \n",
       "4           0   2539329           1             1                   2   \n",
       "\n",
       "   order_hour_of_day  days_since_prior_order  product_id  add_to_cart_order  \\\n",
       "0                  8                     NaN         196                  1   \n",
       "1                  8                     NaN       14084                  2   \n",
       "2                  8                     NaN       12427                  3   \n",
       "3                  8                     NaN       26088                  4   \n",
       "4                  8                     NaN       26405                  5   \n",
       "\n",
       "   reordered  ...  Gender    State  Age  date_joined  n_dependants fam_status  \\\n",
       "0          0  ...  Female  Alabama   31    2/17/2019             3    married   \n",
       "1          0  ...  Female  Alabama   31    2/17/2019             3    married   \n",
       "2          0  ...  Female  Alabama   31    2/17/2019             3    married   \n",
       "3          0  ...  Female  Alabama   31    2/17/2019             3    married   \n",
       "4          0  ...  Female  Alabama   31    2/17/2019             3    married   \n",
       "\n",
       "  income State_cleaned Region low_activity_flag  \n",
       "0  40423       Alabama  South             False  \n",
       "1  40423       Alabama  South             False  \n",
       "2  40423       Alabama  South             False  \n",
       "3  40423       Alabama  South             False  \n",
       "4  40423       Alabama  South             False  \n",
       "\n",
       "[5 rows x 38 columns]"
      ]
     },
     "execution_count": 22,
     "metadata": {},
     "output_type": "execute_result"
    }
   ],
   "source": [
    "Orders_products_filtered.head()"
   ]
  },
  {
   "cell_type": "markdown",
   "id": "9050b9e0-49c6-4dd4-a826-a202fdf9a926",
   "metadata": {},
   "source": [
    "# Create a profiling variable based on age, income, certain goods in the “department_id” column, and number of dependents"
   ]
  },
  {
   "cell_type": "code",
   "execution_count": 23,
   "id": "d70d9bd9-23ec-4256-9a6a-6398feac3296",
   "metadata": {},
   "outputs": [],
   "source": [
    "def assign_profile(row):\n",
    "    age = row['Age']\n",
    "    income = row['income']\n",
    "    dependants = row['n_dependants']\n",
    "    dept = row['department_id']\n",
    "    hour = row['order_hour_of_day']\n",
    "    day = row['orders_day_of_week']\n",
    "\n",
    "    # Young Singles\n",
    "    if age < 30 and dependants == 0 and income < 50000:\n",
    "        return 'Young Single'\n",
    "\n",
    "    # Young Parents\n",
    "    elif age < 35 and dependants > 0 and dept == 18:  # 18 = Baby products\n",
    "        return 'Young Parent'\n",
    "\n",
    "    # Middle-Aged Family\n",
    "    elif 35 <= age <= 55 and dependants > 1:\n",
    "        return 'Middle-age Family'\n",
    "\n",
    "    # Seniors\n",
    "    elif age > 60:\n",
    "        return 'Senior'\n",
    "\n",
    "    # Health Conscious\n",
    "    elif dept in [4, 12]:  # e.g., 4 = produce, 12 = meat seafood\n",
    "        return 'Health Conscious'\n",
    "\n",
    "    # Busy Professional\n",
    "    elif day in [0,1,2,3,4] and 18 <= hour <= 21:\n",
    "        return 'Busy Professional'\n",
    "\n",
    "    # Weekend Shopper\n",
    "    elif day in [5,6]:  # Saturday & Sunday\n",
    "        return 'Weekend Shopper'\n",
    "\n",
    "    else:\n",
    "        return 'General Customer'\n",
    "\n",
    "# Apply the profiling function\n",
    "Orders_products_all['customer_profile'] = Orders_products_all.apply(assign_profile, axis=1)"
   ]
  },
  {
   "cell_type": "markdown",
   "id": "3d00832a-3794-4b96-9214-f2f8f8aab9cf",
   "metadata": {},
   "source": [
    "# Visualiazation"
   ]
  },
  {
   "cell_type": "code",
   "execution_count": 25,
   "id": "eda52cf5-d962-45d9-9df5-f2a3b1d03e50",
   "metadata": {},
   "outputs": [
    {
     "name": "stderr",
     "output_type": "stream",
     "text": [
      "/var/folders/bz/7hwgnc95287cp83lwy4gfzth0000gn/T/ipykernel_1319/2039548200.py:8: FutureWarning: \n",
      "\n",
      "Passing `palette` without assigning `hue` is deprecated and will be removed in v0.14.0. Assign the `x` variable to `hue` and set `legend=False` for the same effect.\n",
      "\n",
      "  sns.countplot(data=Orders_products_all, x='customer_profile', order=Orders_products_all['customer_profile'].value_counts().index, palette='viridis')\n"
     ]
    },
    {
     "data": {
      "image/png": "[encoded data removed]",
      "text/plain": [
       "<Figure size 1000x600 with 1 Axes>"
      ]
     },
     "metadata": {},
     "output_type": "display_data"
    }
   ],
   "source": [
    "# Set the visual style\n",
    "sns.set(style=\"whitegrid\")\n",
    "\n",
    "# Set the figure size\n",
    "plt.figure(figsize=(10,6))\n",
    "\n",
    "# Plot the counts of each customer profile\n",
    "sns.countplot(data=Orders_products_all, x='customer_profile', order=Orders_products_all['customer_profile'].value_counts().index, palette='viridis')\n",
    "\n",
    "# Add labels and title\n",
    "plt.title('Distribution of Customer Profiles', fontsize=16)\n",
    "plt.xlabel('Customer Profile', fontsize=12)\n",
    "plt.ylabel('Number of Records', fontsize=12)\n",
    "plt.xticks(rotation=45)\n",
    "\n",
    "# Show the plot\n",
    "plt.tight_layout()\n",
    "plt.show()\n"
   ]
  },
  {
   "cell_type": "markdown",
   "id": "e190f952-ab19-46b0-a8f3-5e52dd5d30e2",
   "metadata": {},
   "source": [
    "# Aggregate the max, mean, and min variables on a customer-profile level for usage frequency and expenditure"
   ]
  },
  {
   "cell_type": "code",
   "execution_count": 27,
   "id": "8c9d3d52-a858-4096-be1f-84344df4e7ab",
   "metadata": {},
   "outputs": [
    {
     "name": "stdout",
     "output_type": "stream",
     "text": [
      "    customer_profile  usage_freq_max  usage_freq_mean  usage_freq_min  \\\n",
      "0  Busy Professional              99        15.855046               1   \n",
      "1   General Customer              99        17.150858               1   \n",
      "2   Health Conscious              99        17.736270               1   \n",
      "3  Middle-age Family              99        17.017403               1   \n",
      "4             Senior              99        17.134541               1   \n",
      "5    Weekend Shopper              99        16.834481               1   \n",
      "6       Young Parent              99        19.375992               1   \n",
      "7       Young Single              99        16.657599               1   \n",
      "\n",
      "   expenditure_max  expenditure_mean  expenditure_min  \n",
      "0          99999.0         12.823039              1.0  \n",
      "1          99999.0         13.922144              1.0  \n",
      "2             25.0          8.568652              1.0  \n",
      "3          99999.0         12.022354              1.0  \n",
      "4          99999.0         11.845765              1.0  \n",
      "5          99999.0         13.961860              1.0  \n",
      "6             15.0          7.664587              1.0  \n",
      "7             25.0          6.883993              1.0  \n"
     ]
    }
   ],
   "source": [
    "# Group by customer profile and aggregate\n",
    "agg_df = Orders_products_all.groupby('customer_profile').agg({\n",
    "    'order_number': ['max', 'mean', 'min'],  # usage frequency proxy\n",
    "    'prices': ['max', 'mean', 'min']         # expenditure\n",
    "})\n",
    "\n",
    "# Flatten the column multi-index\n",
    "agg_df.columns = ['_'.join(col).strip() for col in agg_df.columns.values]\n",
    "agg_df = agg_df.reset_index()\n",
    "\n",
    "# Rename columns for clarity\n",
    "agg_df.rename(columns={\n",
    "    'order_number_max': 'usage_freq_max',\n",
    "    'order_number_mean': 'usage_freq_mean',\n",
    "    'order_number_min': 'usage_freq_min',\n",
    "    'prices_max': 'expenditure_max',\n",
    "    'prices_mean': 'expenditure_mean',\n",
    "    'prices_min': 'expenditure_min'\n",
    "}, inplace=True)\n",
    "\n",
    "print(agg_df)"
   ]
  },
  {
   "cell_type": "markdown",
   "id": "b1843cac-e163-4c45-addb-de3883c17766",
   "metadata": {},
   "source": [
    "# Compare your customer profiles with regions and departments"
   ]
  },
  {
   "cell_type": "code",
   "execution_count": 29,
   "id": "f21d319b-32e1-4f46-bec4-37f46d9ca1c9",
   "metadata": {},
   "outputs": [
    {
     "name": "stdout",
     "output_type": "stream",
     "text": [
      "📍 Customer Profile vs Region (%):\n",
      "Region             Midwest  Northeast  South  West\n",
      "customer_profile                                  \n",
      "Busy Professional     23.8       17.6   33.4  25.1\n",
      "General Customer      23.6       17.5   33.1  25.7\n",
      "Health Conscious      23.6       17.5   33.4  25.5\n",
      "Middle-age Family     23.2       17.6   33.6  25.6\n",
      "Senior                23.3       17.9   33.2  25.6\n",
      "Weekend Shopper       23.6       17.4   33.3  25.6\n",
      "Young Parent          24.3       18.0   33.9  23.8\n",
      "Young Single          23.2       19.2   31.0  26.7\n",
      "\n",
      "🛒 Customer Profile vs Department (%):\n",
      "department_id        1    2    3     4    5    6     7    8    9    10  ...  \\\n",
      "customer_profile                                                        ...   \n",
      "Busy Professional  11.2  0.2  5.2   0.0  0.6  1.2  11.7  0.5  4.0  0.2  ...   \n",
      "General Customer    9.7  0.2  5.3   0.0  0.7  1.3  12.3  0.4  4.0  0.2  ...   \n",
      "Health Conscious    0.0  0.0  0.0  93.0  0.0  0.0   0.0  0.0  0.0  0.0  ...   \n",
      "Middle-age Family   6.9  0.1  3.6  29.3  0.4  0.8   8.2  0.3  2.7  0.1  ...   \n",
      "Senior              6.9  0.1  3.6  29.3  0.5  0.8   8.3  0.3  2.7  0.1  ...   \n",
      "Weekend Shopper    10.6  0.2  5.3   0.0  0.8  1.2  12.0  0.5  3.9  0.2  ...   \n",
      "Young Parent        0.0  0.0  0.0   0.0  0.0  0.0   0.0  0.0  0.0  0.0  ...   \n",
      "Young Single        6.5  0.1  3.3  24.4  0.5  0.8  10.5  0.3  2.1  0.1  ...   \n",
      "\n",
      "department_id       12   13   14   15    16   17     18    19   20   21  \n",
      "customer_profile                                                         \n",
      "Busy Professional  0.0  8.4  3.3  4.6  24.4  3.4    1.3  12.6  4.8  0.3  \n",
      "General Customer   0.0  8.4  3.2  4.9  24.7  3.3    1.2  13.3  4.8  0.3  \n",
      "Health Conscious   7.0  0.0  0.0  0.0   0.0  0.0    0.0   0.0  0.0  0.0  \n",
      "Middle-age Family  2.2  5.8  2.2  3.3  16.6  2.3    1.4   8.9  3.2  0.2  \n",
      "Senior             2.2  5.8  2.2  3.3  16.6  2.3    1.3   8.9  3.3  0.2  \n",
      "Weekend Shopper    0.0  8.9  3.1  5.0  24.4  3.4    1.1  12.5  4.7  0.3  \n",
      "Young Parent       0.0  0.0  0.0  0.0   0.0  0.0  100.0   0.0  0.0  0.0  \n",
      "Young Single       1.3  5.1  2.6  2.6  15.6  2.7    1.3  15.2  3.2  0.2  \n",
      "\n",
      "[8 rows x 21 columns]\n"
     ]
    }
   ],
   "source": [
    "# Ensure proper data types\n",
    "df = Orders_products_all.copy()\n",
    "\n",
    "# 1. Profile counts by Region\n",
    "profile_region_ct = pd.crosstab(df['customer_profile'], df['Region'], normalize='index') * 100\n",
    "\n",
    "# 2. Profile counts by Department\n",
    "profile_dept_ct = pd.crosstab(df['customer_profile'], df['department_id'], normalize='index') * 100\n",
    "\n",
    "# Round for neatness\n",
    "profile_region_ct = profile_region_ct.round(1)\n",
    "profile_dept_ct = profile_dept_ct.round(1)\n",
    "\n",
    "print(\"📍 Customer Profile vs Region (%):\")\n",
    "print(profile_region_ct)\n",
    "\n",
    "print(\"\\n🛒 Customer Profile vs Department (%):\")\n",
    "print(profile_dept_ct)"
   ]
  },
  {
   "cell_type": "markdown",
   "id": "932072a1-6531-4ebb-8ca6-34939a692827",
   "metadata": {},
   "source": [
    "Nothing too specific can be derived from this analysis. 'Young Singles' are especially prevalent in the West but that's about it."
   ]
  },
  {
   "cell_type": "code",
   "execution_count": 30,
   "id": "fb7471ab-de07-4f4f-861d-3310076df093",
   "metadata": {},
   "outputs": [
    {
     "name": "stdout",
     "output_type": "stream",
     "text": [
      "✅ Charts successfully saved to: /Users/davidscheider/anaconda_projects/Instacart Basket Analysis/03 Scripts/charts_output\n"
     ]
    }
   ],
   "source": [
    "# Copy your DataFrame\n",
    "df = Orders_products_all.copy()\n",
    "\n",
    "# Create output directory if not exists\n",
    "output_dir = \"charts_output\"\n",
    "os.makedirs(output_dir, exist_ok=True)\n",
    "\n",
    "# Profile vs Region\n",
    "profile_region_ct = pd.crosstab(df['customer_profile'], df['Region'], normalize='index') * 100\n",
    "profile_region_ct = profile_region_ct.round(1)\n",
    "\n",
    "# Profile vs Department\n",
    "profile_dept_ct = pd.crosstab(df['customer_profile'], df['department_id'], normalize='index') * 100\n",
    "profile_dept_ct = profile_dept_ct.round(1)\n",
    "\n",
    "# Chart 1: Heatmap - Profile vs Region\n",
    "plt.figure(figsize=(10, 6))\n",
    "sns.heatmap(profile_region_ct, cmap='coolwarm', annot=True)\n",
    "plt.title('Customer Profile Distribution by Region (%)', fontsize=14)\n",
    "plt.ylabel('Customer Profile')\n",
    "plt.xlabel('Region')\n",
    "plt.tight_layout()\n",
    "plt.savefig(f\"{output_dir}/profile_vs_region_heatmap.png\")\n",
    "plt.close()\n",
    "\n",
    "# Chart 2: Heatmap - Profile vs Department\n",
    "plt.figure(figsize=(16, 6))\n",
    "sns.heatmap(profile_dept_ct, cmap='YlGnBu', annot=True)\n",
    "plt.title('Customer Profile Distribution by Department (%)', fontsize=14)\n",
    "plt.ylabel('Customer Profile')\n",
    "plt.xlabel('Department ID')\n",
    "plt.tight_layout()\n",
    "plt.savefig(f\"{output_dir}/profile_vs_department_heatmap.png\")\n",
    "plt.close()\n",
    "\n",
    "# Chart 3: Stacked Bar Plot - Region breakdown per profile\n",
    "profile_region_ct.T.plot(kind='bar', stacked=True, figsize=(12, 7), colormap='tab20')\n",
    "plt.title('Stacked Barplot: Regional Breakdown per Customer Profile', fontsize=14)\n",
    "plt.ylabel('Percentage (%)')\n",
    "plt.xlabel('Region')\n",
    "plt.legend(title='Customer Profile', bbox_to_anchor=(1.05, 1), loc='upper left')\n",
    "plt.tight_layout()\n",
    "plt.savefig(f\"{output_dir}/stacked_bar_region_profile.png\")\n",
    "plt.close()\n",
    "\n",
    "print(\"✅ Charts successfully saved to:\", os.path.abspath(output_dir))"
   ]
  },
  {
   "cell_type": "markdown",
   "id": "0d42a744-d3f5-4699-9442-e86afb887e97",
   "metadata": {},
   "source": [
    "Charts exported to files and included in the final excel"
   ]
  },
  {
   "cell_type": "code",
   "execution_count": 31,
   "id": "0079718c-01e4-4d55-89aa-9cf2b6eecf35",
   "metadata": {},
   "outputs": [],
   "source": [
    "# exporting to pkl\n",
    "Orders_products_all.to_pickle(os.path.join(path, '02 Data','Prepared Data','Orders_products_all_final.pkl'))"
   ]
  }
 ],
 "metadata": {
  "kernelspec": {
   "display_name": "Python [conda env:base] *",
   "language": "python",
   "name": "conda-base-py"
  },
  "language_info": {
   "codemirror_mode": {
    "name": "ipython",
    "version": 3
   },
   "file_extension": ".py",
   "mimetype": "text/x-python",
   "name": "python",
   "nbconvert_exporter": "python",
   "pygments_lexer": "ipython3",
   "version": "3.12.7"
  }
 },
 "nbformat": 4,
 "nbformat_minor": 5
}
