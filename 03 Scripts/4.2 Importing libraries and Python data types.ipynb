{
 "cells": [
  {
   "cell_type": "markdown",
   "id": "6f482be6-1c3f-4b1e-9532-fdcc996e446b",
   "metadata": {},
   "source": [
    "#01. Importing libraries"
   ]
  },
  {
   "cell_type": "code",
   "execution_count": 2,
   "id": "93a417e7-11e7-42cd-8c93-4f95e3434f49",
   "metadata": {},
   "outputs": [],
   "source": [
    "#installing pandas and numpy\n",
    "import pandas as pd\n",
    "import numpy as np\n",
    "import os"
   ]
  },
  {
   "cell_type": "markdown",
   "id": "cfc66a3f-384c-4478-908e-fbc80fb9f58e",
   "metadata": {},
   "source": [
    "#02. Python data types"
   ]
  },
  {
   "cell_type": "code",
   "execution_count": 22,
   "id": "246da1b9-a650-433e-a1aa-3f6062151431",
   "metadata": {},
   "outputs": [],
   "source": [
    "x = 50"
   ]
  },
  {
   "cell_type": "code",
   "execution_count": 24,
   "id": "56667175-eb68-4ca0-8909-a4a9d504d5c6",
   "metadata": {},
   "outputs": [
    {
     "name": "stdout",
     "output_type": "stream",
     "text": [
      "50\n"
     ]
    }
   ],
   "source": [
    "print (x)"
   ]
  },
  {
   "cell_type": "code",
   "execution_count": 25,
   "id": "0f56a305-355e-482b-899e-fbaa11b1a30d",
   "metadata": {},
   "outputs": [
    {
     "name": "stdout",
     "output_type": "stream",
     "text": [
      "100\n"
     ]
    }
   ],
   "source": [
    "print (x * 2)"
   ]
  },
  {
   "cell_type": "code",
   "execution_count": 26,
   "id": "b1ef9331-2383-4794-a473-817e44737a05",
   "metadata": {},
   "outputs": [],
   "source": [
    "y = 100"
   ]
  },
  {
   "cell_type": "code",
   "execution_count": 27,
   "id": "febd0ff8-1c95-4060-ba96-f343e6cf64bb",
   "metadata": {},
   "outputs": [
    {
     "name": "stdout",
     "output_type": "stream",
     "text": [
      "100\n"
     ]
    }
   ],
   "source": [
    "print (y)"
   ]
  },
  {
   "cell_type": "code",
   "execution_count": 28,
   "id": "4227727f-8a2c-47bc-9164-5b4f1efc456d",
   "metadata": {},
   "outputs": [],
   "source": [
    "z = 20"
   ]
  },
  {
   "cell_type": "code",
   "execution_count": 29,
   "id": "72d63229-1f40-4413-9422-b64a2b47ff17",
   "metadata": {},
   "outputs": [],
   "source": [
    "a = 80"
   ]
  },
  {
   "cell_type": "code",
   "execution_count": 31,
   "id": "e0d86cad-ec83-4431-a725-0a9fb152ea9c",
   "metadata": {},
   "outputs": [
    {
     "name": "stdout",
     "output_type": "stream",
     "text": [
      "100\n"
     ]
    }
   ],
   "source": [
    "print (a + z)"
   ]
  },
  {
   "cell_type": "code",
   "execution_count": 32,
   "id": "bd57a909-d174-4b90-af97-430fbad8a4c0",
   "metadata": {},
   "outputs": [],
   "source": [
    "b = 4.1"
   ]
  },
  {
   "cell_type": "code",
   "execution_count": 33,
   "id": "584eac86-e386-4691-bfa5-e2de6f0f5ec1",
   "metadata": {},
   "outputs": [],
   "source": [
    "c = 8.2"
   ]
  },
  {
   "cell_type": "code",
   "execution_count": 34,
   "id": "b47bd161-9785-450f-9725-511a9ccbe564",
   "metadata": {},
   "outputs": [
    {
     "name": "stdout",
     "output_type": "stream",
     "text": [
      "9.756097560975611\n"
     ]
    }
   ],
   "source": [
    "print (a / c)"
   ]
  },
  {
   "cell_type": "code",
   "execution_count": 35,
   "id": "cc40761e-f956-46a4-ad39-341d1a211b46",
   "metadata": {},
   "outputs": [],
   "source": [
    "d = 'Abra'"
   ]
  },
  {
   "cell_type": "code",
   "execution_count": 36,
   "id": "30f3691a-e6f4-45ac-8036-4d6e433e3622",
   "metadata": {},
   "outputs": [],
   "source": [
    "e ='ham'"
   ]
  },
  {
   "cell_type": "code",
   "execution_count": 37,
   "id": "29b584cb-d595-4dd2-9cb0-b8e5519c1e90",
   "metadata": {},
   "outputs": [
    {
     "name": "stdout",
     "output_type": "stream",
     "text": [
      "Abraham\n"
     ]
    }
   ],
   "source": [
    "print (d + e)"
   ]
  },
  {
   "cell_type": "code",
   "execution_count": 38,
   "id": "575b7a5e-37b8-4cad-ad73-870bad77d754",
   "metadata": {},
   "outputs": [],
   "source": [
    "f = ' Lincoln was the president of the United States of America'"
   ]
  },
  {
   "cell_type": "code",
   "execution_count": 39,
   "id": "c4d402dc-31a3-4da9-a8a5-f971e3631df9",
   "metadata": {},
   "outputs": [
    {
     "name": "stdout",
     "output_type": "stream",
     "text": [
      "Abraham Lincoln was the president of the United States of America\n"
     ]
    }
   ],
   "source": [
    "print (d + e + f)"
   ]
  },
  {
   "cell_type": "code",
   "execution_count": null,
   "id": "9dea5f6a-8565-4b00-94e3-1733c0af6bc2",
   "metadata": {},
   "outputs": [],
   "source": []
  }
 ],
 "metadata": {
  "kernelspec": {
   "display_name": "Python [conda env:base] *",
   "language": "python",
   "name": "conda-base-py"
  },
  "language_info": {
   "codemirror_mode": {
    "name": "ipython",
    "version": 3
   },
   "file_extension": ".py",
   "mimetype": "text/x-python",
   "name": "python",
   "nbconvert_exporter": "python",
   "pygments_lexer": "ipython3",
   "version": "3.12.7"
  }
 },
 "nbformat": 4,
 "nbformat_minor": 5
}
